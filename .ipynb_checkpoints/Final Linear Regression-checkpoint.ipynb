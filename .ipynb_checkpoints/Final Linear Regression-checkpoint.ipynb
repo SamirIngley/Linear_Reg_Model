{
 "cells": [
  {
   "cell_type": "code",
   "execution_count": 3,
   "metadata": {},
   "outputs": [
    {
     "data": {
      "text/plain": [
       "Text(0, 0.5, 'Water Drinks (Litre)')"
      ]
     },
     "execution_count": 3,
     "metadata": {},
     "output_type": "execute_result"
    }
   ],
   "source": [
    "import numpy as np\n",
    "import matplotlib.pyplot as plt\n",
    "\n",
    "# Running Distance in Mile\n",
    "x = np.array([3.3,4.4,5.5,6.71,6.93,4.168,9.779,6.182,7.59,2.167,\n",
    "                         7.042,10.791,5.313,7.997,5.654,9.27,3.1])\n",
    "\n",
    "# Water Drinks in Litre\n",
    "y = np.array([1.7,2.76,2.09,3.19,1.694,1.573,3.366,2.596,2.53,1.221,\n",
    "                         2.827,3.465,1.65,2.904,2.42,2.94,1.3])\n",
    "\n",
    "plt.scatter(x, y)\n",
    "plt.xlabel('Running Distance (Mile)')\n",
    "plt.ylabel('Water Drinks (Litre)')"
   ]
  },
  {
   "cell_type": "code",
   "execution_count": null,
   "metadata": {},
   "outputs": [],
   "source": [
    "def min_sq_error(y, x, w1, w0):\n",
    "    \n",
    "    y_pred = w_1 x[i] + w_0 for i in range(len(x))\n",
    "    E[i] = y_pred[i] - y[i] for i in range(len(y))\n",
    "    sum_squared_error = np.sum()\n",
    "    N = len(y)\n",
    "    mse = sum_squared_error/N\n",
    "    return mse\n",
    "\n",
    "print(min_sq_error(y, x, 0.7, 0.3))\n",
    "print(min_sq_error(y, x, 0.25163494, 0.79880123))"
   ]
  },
  {
   "cell_type": "code",
   "execution_count": 4,
   "metadata": {},
   "outputs": [
    {
     "name": "stdout",
     "output_type": "stream",
     "text": [
      "(0.25163494428355315, 0.7988012261753947)\n"
     ]
    }
   ],
   "source": [
    "def slope_intercept(x,y):\n",
    "    x_bar = np.mean(x)\n",
    "    y_bar = np.mean(y)\n",
    "    xy_bar = np.mean(x*y)\n",
    "    x_squared_bar = np.mean(np.square(x))\n",
    "    y_squared_bar = np.mean(np.square(y))\n",
    "    x_bar_squared = (x_bar ** 2)\n",
    "\n",
    "    w_1 = ((xy_bar - y_bar * x_bar) / (x_squared_bar - x_bar_squared))\n",
    "    w_0 = (y_bar - w_1*x_bar)\n",
    "                                         \n",
    "    return w_1, w_0\n",
    "\n",
    "coefficients = slope_intercept(x, y)\n",
    "y_pred = [coefficients[1]*i+coefficients[0] for i in range(len(x))]\n",
    "\n",
    "print(slope_intercept(x, y)) \n",
    "# plt.scatter(x, y)\n",
    "# plt.plot(x, y_pred, 'ro-')\n",
    "\n",
    "\n",
    "\n"
   ]
  },
  {
   "cell_type": "code",
   "execution_count": 17,
   "metadata": {},
   "outputs": [
    {
     "name": "stdout",
     "output_type": "stream",
     "text": [
      "0.2517670204681723\n",
      "0.797864887838427\n"
     ]
    }
   ],
   "source": [
    "import numpy as np\n",
    "\n",
    "x_bar = np.mean(x)\n",
    "y_bar = np.mean(y)\n",
    "xy_bar = np.mean(x*y)\n",
    "x_squared_bar = np.mean(np.square(x))\n",
    "x_bar_squared = x_bar ** 2\n",
    "    \n",
    "w_0 = np.random.randn()\n",
    "w_1 = np.random.randn()\n",
    "step = 0.01\n",
    "epoch = 5000\n",
    "for _ in range(epoch):\n",
    "    w_1 = w_1 - step*((w_1*x_squared_bar)+ (w_0 * x_bar) - xy_bar)\n",
    "    w_0 = w_0 - step*(w_1*x_bar + w_0 - y_bar)\n",
    "print(w_1)\n",
    "print(w_0)"
   ]
  },
  {
   "cell_type": "code",
   "execution_count": null,
   "metadata": {},
   "outputs": [],
   "source": []
  }
 ],
 "metadata": {
  "kernelspec": {
   "display_name": "Python 3",
   "language": "python",
   "name": "python3"
  },
  "language_info": {
   "codemirror_mode": {
    "name": "ipython",
    "version": 3
   },
   "file_extension": ".py",
   "mimetype": "text/x-python",
   "name": "python",
   "nbconvert_exporter": "python",
   "pygments_lexer": "ipython3",
   "version": "3.7.5"
  }
 },
 "nbformat": 4,
 "nbformat_minor": 2
}
